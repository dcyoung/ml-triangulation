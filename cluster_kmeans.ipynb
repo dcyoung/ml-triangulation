{
 "cells": [
  {
   "cell_type": "code",
   "execution_count": null,
   "metadata": {},
   "outputs": [],
   "source": [
    "import numpy as np\n",
    "import pandas as pd\n",
    "from tqdm import tqdm\n",
    "import matplotlib.pyplot as plt\n",
    "%matplotlib inline\n",
    "\n",
    "from common import calculate_centroid_geo, haversine_np"
   ]
  },
  {
   "cell_type": "code",
   "execution_count": null,
   "metadata": {},
   "outputs": [],
   "source": [
    "df = pd.read_csv(\"data/mappers_processed.csv\")"
   ]
  },
  {
   "cell_type": "code",
   "execution_count": null,
   "metadata": {},
   "outputs": [],
   "source": [
    "# Limit to SF Bay\n",
    "lat_bounds = [37, 38]\n",
    "long_bounds = [-124, -122]\n",
    "\n",
    "df = df[df[\"target_lat\"] > min(lat_bounds)]\n",
    "df = df[df[\"target_lat\"] < max(lat_bounds)]\n",
    "df = df[df[\"target_long\"] > min(long_bounds)]\n",
    "df = df[df[\"target_long\"] < max(long_bounds)]"
   ]
  },
  {
   "cell_type": "code",
   "execution_count": null,
   "metadata": {},
   "outputs": [],
   "source": [
    "subset = df.sample(n=min(len(df), 5000))\n",
    "for i in range(1,4):\n",
    "    plt.scatter(subset[f\"hotspot{i}_long\"], subset[f\"hotspot{i}_lat\"], s=2, alpha=0.8, label=f\"hotspot{i}\")\n",
    "plt.scatter(subset[\"target_long\"], subset[\"target_lat\"], s=2, label=\"label\")\n",
    "plt.xlabel(\"Longitude\")\n",
    "plt.ylabel(\"Latitude\")\n",
    "plt.title(\"Random sampling of data points\")\n",
    "plt.legend()"
   ]
  },
  {
   "cell_type": "code",
   "execution_count": null,
   "metadata": {},
   "outputs": [],
   "source": [
    "# Limit the number of samples\n",
    "max_samples = 10000\n",
    "if df.shape[0] > max_samples:\n",
    "    print(f\"Limiting # samples from {df.shape[0]} to {max_samples}\")\n",
    "    df = df.sample(n=max_samples)"
   ]
  },
  {
   "cell_type": "code",
   "execution_count": null,
   "metadata": {},
   "outputs": [],
   "source": [
    "data = np.concatenate([\n",
    "    df[[f\"{prefix}_lat\", f\"{prefix}_long\"]].to_numpy() for prefix in [\"target\", \"hotspot1\", \"hotspot2\", \"hotspot3\"]\n",
    "])\n",
    "print(data.shape)"
   ]
  },
  {
   "cell_type": "code",
   "execution_count": null,
   "metadata": {},
   "outputs": [],
   "source": [
    "def k_means(data, k:int=50, num_iter:int=50, seed:int=42, trace: bool=False):\n",
    "    np.random.seed(seed)\n",
    "\n",
    "    n, d = data.shape\n",
    "    data_lla = np.stack([data[:,0], data[:,1], np.zeros((n))])\n",
    "    \n",
    "    # Initialize centroids as random selection of data points\n",
    "    centroids = data[np.random.choice(n, k, replace=False)] # k, d \n",
    "    diff = np.zeros((n,k))\n",
    "\n",
    "    for _ in tqdm(range(num_iter), disable=not trace):\n",
    "        # Assign centroids based on minimum haversine distance\n",
    "        for i in range(k):\n",
    "            diff[:, i] = haversine_np(data, centroids[np.newaxis, i,:])\n",
    "        labels = diff.argmin(axis=1) # n,\n",
    "\n",
    "        # Update the centroids to be the projected centroid of the members of each cluster\n",
    "        for i in range(k):\n",
    "\n",
    "            members = data_lla[np.argwhere(labels==i), :]\n",
    "            if members.shape[0] == 0:\n",
    "                # empty cluster... don't update\n",
    "                continue\n",
    "            centroids[i] = calculate_centroid_geo(lat_long_alt=members[:,:])[:,:2]\n",
    "        \n",
    "    return centroids"
   ]
  },
  {
   "cell_type": "code",
   "execution_count": null,
   "metadata": {},
   "outputs": [],
   "source": [
    "# Cluster\n",
    "centroids = k_means(data, k=2000, trace=True)"
   ]
  },
  {
   "cell_type": "code",
   "execution_count": null,
   "metadata": {},
   "outputs": [],
   "source": [
    "# Visualize clusters\n",
    "subset = data[np.random.choice(data.shape[0], min(10000, data.shape[0]), replace=False), :]\n",
    "plt.scatter(subset[:,1], subset[:,0], alpha=0.1, label=\"data\")\n",
    "plt.scatter(centroids[:,1], centroids[:,0], marker=\"*\", color=\"k\", label=\"cluster centroid\")\n",
    "plt.xlabel(\"Longitude\")\n",
    "plt.ylabel(\"Latitude\")\n",
    "plt.legend()\n",
    "plt.title(f\"K-Means Clusters k={centroids.shape[0]}\")\n",
    "plt.show()"
   ]
  }
 ],
 "metadata": {
  "kernelspec": {
   "display_name": "torch",
   "language": "python",
   "name": "python3"
  },
  "language_info": {
   "codemirror_mode": {
    "name": "ipython",
    "version": 3
   },
   "file_extension": ".py",
   "mimetype": "text/x-python",
   "name": "python",
   "nbconvert_exporter": "python",
   "pygments_lexer": "ipython3",
   "version": "3.10.9"
  },
  "orig_nbformat": 4,
  "vscode": {
   "interpreter": {
    "hash": "a2b0c702ac25f97acd8a4a661cbe334755fdd1897c380bb354f2173ef576db5f"
   }
  }
 },
 "nbformat": 4,
 "nbformat_minor": 2
}
